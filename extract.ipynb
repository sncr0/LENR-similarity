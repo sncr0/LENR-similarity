{
 "cells": [
  {
   "cell_type": "code",
   "execution_count": 1,
   "metadata": {},
   "outputs": [],
   "source": [
    "import PyPDF2\n",
    "\n",
    "import os"
   ]
  },
  {
   "cell_type": "code",
   "execution_count": 2,
   "metadata": {},
   "outputs": [],
   "source": [
    "pdf_filename_list = [filename for filename in os.listdir(\"./dataset\") if filename.lower().endswith(\".pdf\")]"
   ]
  },
  {
   "cell_type": "code",
   "execution_count": 3,
   "metadata": {},
   "outputs": [
    {
     "name": "stdout",
     "output_type": "stream",
     "text": [
      "doc25.pdf done\n",
      "doc14.pdf done\n",
      "doc18.pdf done\n",
      "doc5.pdf done\n",
      "doc22.pdf done\n",
      "doc21.pdf done\n",
      "doc1.pdf done\n",
      "doc16.pdf done\n",
      "doc11.pdf done\n",
      "doc8.pdf done\n",
      "doc23.pdf done\n",
      "doc20.pdf done\n",
      "doc17.pdf done\n",
      "doc4.pdf done\n",
      "doc13.pdf done\n",
      "doc28.pdf done\n",
      "doc3.pdf done\n",
      "doc26.pdf done\n",
      "doc12.pdf done\n",
      "doc30.pdf done\n",
      "doc32.pdf done\n",
      "doc27.pdf done\n",
      "doc24.pdf done\n",
      "doc9.pdf done\n",
      "doc31.pdf done\n",
      "doc19.pdf done\n",
      "doc15.pdf done\n",
      "doc29.pdf done\n",
      "doc10.pdf done\n",
      "doc2.pdf done\n",
      "doc7.pdf done\n",
      "doc6.pdf done\n"
     ]
    }
   ],
   "source": [
    "pdf_text_dict = {}\n",
    "pdf_abstract_dict = {}\n",
    "\n",
    "for pdf_filename in pdf_filename_list:\n",
    "    with open(f\"./dataset/{pdf_filename}\", 'rb') as pdf_file:\n",
    "        pdf_reader = PyPDF2.PdfReader(pdf_file)\n",
    "        num_pages = len(pdf_reader.pages)\n",
    "\n",
    "        page_texts = []\n",
    "        for page_num in range(num_pages):\n",
    "            page = pdf_reader.pages[page_num]\n",
    "            lines = page.extract_text()  # Split text into lines\n",
    "            page_texts.append(lines)\n",
    "        \n",
    "        abstract_pos = page_texts[0].lower().find(\"abstract\")\n",
    "        intro_pos = page_texts[0].lower().find(\"introduction\")\n",
    "        abstract = page_texts[0][abstract_pos+8 : intro_pos]\n",
    "\n",
    "\n",
    "        pdf_text_dict[pdf_filename] = page_texts\n",
    "        pdf_abstract_dict[pdf_filename] = abstract\n",
    "        print(f\"{pdf_filename} done\")"
   ]
  },
  {
   "cell_type": "code",
   "execution_count": 4,
   "metadata": {},
   "outputs": [
    {
     "data": {
      "text/plain": [
       "{'doc25.pdf': 'Extensive evidence exists for cold fusion to produce transmutation products as well as excess heat. This paper deals with thepalladium–deuteride (PdD) structure that is generally modeled with a deuterium-to-helium (D + D⇒4He) cold-fusion process.How this process results in transmutation is based on the extended-lochon model that predicts deep-orbit electrons that are tightlybound to the4He nucleus and thus make the equivalent of a neutralized alpha particle. This model is compared with the NiH system(H + H⇒D, H##2, or 2H#)described earlier and distinguishes long-range from short-range transmutation (distance from the fusionsite) as well as the relative excess energies from fusion vs. transmutation. The model predicts the probable transmutation process(es)and products in the palladium system and explains other observed results of cold-fusion experiments.© 2015 ISCMNS. All rights reserved. ISSN 2227-3123Keywords:Femto-atoms, Femto-molecules, Deep-Dirac levels, Neutral-alpha, Selective fusion1. ',\n",
       " 'doc14.pdf': '] Procedures and results of three kinds of experiments i.e., closed type D 2O/Pd electrolysis, \\nelectron beam irradiation and ion-beam bombardment on titanium-deuteride (TiDx) have been \\nintroduced in this paper. In the electrolysis experi ment, upper gas of the electrolysis cell was analyzed \\nusing a Quadrupole Mass Analysis System (Q-MAS). Significant amount of helium-4 was detected \\nwithout neutron emission in several experiments and in one of these experiments, the amount of \\nhelium-4 atom in the released gas from the palladium cathode was 8.1x1016 atoms. Under electron \\nbeam irradiation to highly D-loaded palladium, anom alous spectra were taken in X-ray measurement. \\nIn the experiments using deuteron beam and TiDx , responses which suggested 3D multi-body fusion \\nwere taken and the reaction rate of which was incr eased compared to the D(d,p)T reaction rate, below \\n100 keV. This result may reflect the coherent effect of the solid state in the reactions. From the results \\nof the experiments using proton beam and TiDx, peaks which su ggested 3D multi-body reaction were \\ndetected with high reproducibility. Moreover, high energetic protons having 17-20 MeV emitted \\nkinetic energy which suggested H-D-D three-body coherent fusion were also detected. \\n1. ',\n",
       " 'doc18.pdf': 'Heterogeneous Hydrocarbon Plasma (HHP) was used in LENR experiments in the studies [1], [2] for the ﬁrst time. This HHPwas created by a pulsed erosive capillary plasma generator (PG). Theworking erosive substance PMMA (polymethyl-methacrylate,monomer-C5H8O2) was used in this PG. This work is a continuation of the previous ones [1], [2]. A calorimetric experiment withPG and distant Ni-foil cathode has been carried out in argon atmosphere( Pst~1 Bar). It was determined that HHP consists of thecarbon nano-clusters and hydrogen atoms+hydrogen ions. These species are connected with dissociation of the initialPMMA.The interaction of HHP with thin Ni-foil target (width 0.1÷1 mm) has been studied in this work. HHP- jet heats, melts andevaporates this thin Ni-foil target. In a result of this interaction a small hole with diameter 1–3 mm in the Ni-foil target was burnedby HHP-jet. Parameters of this hole were measured. Ni-foil weight was measured before and after the experiment also. It wasrevealed that the value COP was about of 5÷6 in this experiment (where COP=QT/Qe,QT– thermal energy of heating, meltingand evaporating of the Ni-foil-target, Qe-electric energy input for HHP-jet creation). New transmuted chemicalelements Li, Al,Ca,. . . were recorded in the HHP by the optical spectroscopy method, the EDS-method and the MS ICP method.© 2022 ICCF. All rights reserved. ISSN 2227-3123Keywords:LENR, heterogeneous hydrocarbon plasma, PMMA, Ni foil, transmutation1. ',\n",
       " 'doc5.pdf': ' Heat production nuclear ash and electrophysical processes in PdO/Pd/PdO (Au/Pd/PdO) heterostructures electrochemically saturated with deuterium (hydrogen) have been investigated. It was shown in after electrolysis period a strong heat flash with duration of 2-7 s and energy density of 60-100 J/cm2 was observed for Pd/PdO:D(H) sample placed in air atmosphere. The thermal energy of each flash was approximately 2-5 times higher than the energy supplied to the sample during electrolysis. Neutron- and γ-emissions accompanying the heat production have been investigated.  1. ',\n",
       " 'doc22.pdf': ': Direct decomposition of water is very difficult in normal conditions. Hydrogen gas can be usually obtained by electrolysis or by a pyrolysis reaction at high temperatures, starting at approximately 3700ºC. However, as we have already reported, anomalous heat generation can occur during plasma electrolysis, and this process makes it rather easy to achieve both electrolysis and pyrolysis simultaneously. In this paper we describe anomalous amounts of hydrogen and oxygen gas generated during plasma electrolysis. The generation of hydrogen far in excess of amounts predicted by Faraday’s law is continuously observed when conditions such as temperature, current density, input voltage and electrode surface are suitable. Non-Faraday generation of hydrogen gas sometimes produces more than 80 times as much hydrogen as normal electrolysis does. Unfortunately there have been few claimed replications of excess hydrogen, even in rare cases in which excess heat is claimed. In most cases, no excess heat or hydrogen is observed. The reaction products found after electrolysis were different after excess heat generation.  Key words: plasma electrolysis, pyrolysis, hydrogen generation, transmutation 1. ',\n",
       " 'doc21.pdf': '\\nThe effective interaction potential for charged particles is calculated in the\\ndeuterium plasma formed in the surface region of the palladium cathode in the\\nelectrolysis of heavy water. It is shown that the Coulomb potential is\\noverscreened producing, at certain distances, an attractive pote ntial between\\ndeuterium nuclei pairs and also between the deuterium nuclei and the surface\\natoms. This behavior of the effective potential in the deuterium plasma can be\\nregarded as a counterpart of the Friedel oscillations of the electron gas at zero\\ntemp erature. Because of this attractive potential, there are bound states for the\\ndeuteron pairs as well as for the surface atoms and deuterons. In these bound\\nstates the equilibrium distance between the nuclei is of the order 0.15 -0.2Å\\ndepending on the num ber density of deuterons. The fusion rate is calculated for\\nthe bounded deuteron pairs and it is found to be of the order 1/s 10-22\\uf0bb\\uf06c per\\ndeuteron pair for the highest deuteron densities. Furthermore, it is shown that\\nlarger fusion rates are po ssible for the deuterons bound to the surface atoms. This\\nmay arise by a process, where the trapped deuterons share the released energy\\ncollectively via a proposed Multiple Resonance Scattering (MRS) mechanism. It\\nis then found that the He4-channel is the overwhelmingly dominant fusion\\nchannel. Moreover, the appearance of the transmutation processes in this MRS\\nprocedure is briefly discussed',\n",
       " 'doc1.pdf': 'The study of the Fleischmann–Pons Effect (FPE), i.e. the production of excess power production during electrochemical loadingof deuterium in palladium (in the past labeled cold fusion) has had a notably multidisciplinary character, involving solid state andnuclear physics, material science, electrochemistry and other ﬁelds. Correlations between the material status and the occurrence ofthe effect as well as some changes in the electrochemical interface status have been observed. Although during the last two decades,in several calorimetric experiments the effect was observed to be well above the measurement uncertainty, the mechanism producingthe excess power is not completely understood. So far, the lack of reproducibility has been responsible for the absence of a clearexplanation of the phenomenon based on experimental apparatus designed to enhance the spectrum of information required todeﬁne the effect. Recently, In order to improve this aspect of this research, speciﬁc work has been carried out to investigate whetherthe excess power was produced concurrently with the emission of Radio Frequency from the active cathode. Suitable probesand triggering included in the RF experimental system revealed RF signal emission during electrochemical loading of palladiumsamples, and a correlation between the heat production, in active samples, and RF signal emission was found. The preliminaryresults highlight the importance of performing studies on the electrodynamic effects that may be involved in the phenomenon, andthe importance of the design of appropriate instruments designed to investigate unexplored regions of metal hydrogen systems.c/circlecopyrt2016 ISCMNS. All rights reserved. ISSN 2227-3123Keywords:Anomalous heat effect in metal hydride, Electrochemistry, Electromagnetic stimulation, Fleischmann and Pons effect,Metal hydrides and deuterides, Palladium, Palladium alloys, Radiofrequency1. ',\n",
       " 'doc16.pdf': ' Implantation experiments of very low energy (lKe V <E<18Ke V) hydrogen ions on hydrogen loaded metals have been performed with high beam density (Jmax.~1.2 mNcm2) and weak beamdensity (Jmin.~ 0.02 mNcm2). Palladium and titanium foils (plates) have been bombarded with protonand deuteron beams in order to compare the atomic and nuclear interactions between different ion beams. X ray and charged particles have been measured, and neutron and gamma doses were also monitored during implanting experiments. An anomalous peak in X-spectra, which energy is about four times of beam energy, has been observed during high beam density experiment. The peak moved from about 40 KeV to 62 KeV and FWHM reduced rapidly, while the beam energy and intensity increased. Another wide peak with over twice of the beam energy has been measured in experiment with low beam density. This peak located between 16 and 30 KeV, and its peak position grew with the growth of integrated implantation dose (implantation time). Some anomalous intensities of neutrons correlated with a charged particle peak (3-4 MeV) have been also observed in deuteron-palladium experiment. The highest neutron intensity reached about 8 X 104n/s, while the beam energy andintensity was about 15 Ke V and 1.0 mA, respectively. 1.',\n",
       " 'doc11.pdf': '. In the present paper, we will give a brief overview about the synergic use of two high \\nresolution techniques with focus on applications on thin coatings: Focused Ion Beam (coupled \\nwith electron beam) imaging, milling and deposition technique (briefly called FIB) and \\nNanoindentation. After a basic description of both techniques (architecture, probe-sample \\ninteraction basics and operation modes), we will demonstrate effectiveness of this approach for \\nmicrostructural investigation on very small samples without any sample preparation or pre-\\nprocessing by presenting two case studies: \\n(i) Analysis of residual stresses of engineered surfaces by coupling focused ion beam controlled \\nmaterial removal and nanoindentation testing, and \\n(ii) Nano-mechanical characterization of sputtered niobium thin films for application in \\naccelerating cavities. \\n1. ',\n",
       " 'doc8.pdf': '\\nAdditional evidence is presented to show that heat production resulting from the Pons-Fleis-\\nchmann Effect has a positive temperature coefficient,  has a critical onset current density,  and\\noriginates at the palladium cathode.\\n',\n",
       " 'doc23.pdf': ' \\nPlasma was formed on the electrode surface in  a liquid electrolyte when a metal cathode \\nwas polarized in high voltage electrolysis in th e solution. During the plasma electrolysis large \\namounts of heat are sometimes generated. The heat can exceed input substantially, in some cases \\nby up to 200 percent of input power. At the same time, anomalous elements are detected in the \\nelectrolyte and on the electrode  surface. Based on the heat and the product, we hypothesize a \\nnuclear reaction can be induced by phot on activation on the cathode element. \\n \\n1. ',\n",
       " 'doc20.pdf': 'Excess heat generated in the glow discharge plasma electrolysis, first reported byMizuno and Ohmori (1), has been studied by several researchers, bothin Japan (2,3, 4) and in other countries (5, 6, 7, 8). Most reports, but not all, confirmedgeneration of excess heat. Facing this situation we decided to replicate the mostrecent experiment (8) in which excess heat was reported to increase with voltage.Our results do not confirm reality of excess heat.',\n",
       " 'doc17.pdf': 'We have measured protons and tritons from the d (d,p) t reaction in liquid In, Sn, Pb and Bi during the D+3molecular deuteriumbeam bombardment for 15<E<60keV. Observed energy spectra and yield excitation functions are anomalous and suggest thatthe target deuteron is also in motion. It is found that the reaction mechanism is unique to the molecular beam in such a way that onedeuteron in a molecule is elastically scattered by a host metal atom and then it collides with the other to cause the d+d reaction.We call it as the cooperative colliding mechanism (CCM). Experimental data are compared with the CCM calculation and values ofthe screening energy of the d+d reaction are deduced. They are380±80,570±80,670±100and490±100eV for In, Sn, Pband Bi, respectively. It is concluded that the screening energy of the d+d reaction in an electron plasma in metal is really large: theaveraged value of 530 eV is more than ten times larger than the simple Thomas–Fermi screening prediction.c/circlecopyrt2016 ISCMNS. All rights reserved. ISSN 2227-3123Keywords:Cooperative colliding mechanism, DD reaction in metal, Liquid metal, Low-energy deuteron beam, Screening potential1. ',\n",
       " 'doc4.pdf': '  \\nThe ability of palladium cathodes to attain and maintain high loading levels, at high \\ncurrent density and for long times, is controlled by two factors: the condition of the \\nelectrochemical interface which allows the attain ment of high deuterium activity; the defect \\ndensity and mechanical condition of the bulk material which permits the Pd lattice to withstand \\nand contain high bulk deuterium activities when thes e equilibrate to produce extreme pressures of \\ndeuterium gas inside closed incipient voids within the metal.  \\nExamples are given from a set of 26 intentionally similar current ramps which show \\nthree distinct Modes of loadin g performance: Mode A - a lin ear decrease of Pd resistance, \\nbeyond the resistance maximum, with logarithmic in crease in electrochemical  current; Mode B -an \\ninitial log-linear decrease on the Mode A trajectory, followed by a rapid increase in resistance \\nwhen the resistance falls below a critical value; Mode C -  a shallow decrease in resistance with \\napproximately symmetric increase as the [log] curre nt density is increased beyond a threshold \\nvalue similar to that for Mode B. Mode A is most frequently associated with the appearance of \\ncalorimetrically determined excess heat.  \\n1. ',\n",
       " 'doc13.pdf': '\\nX-ray emissions ranging 1.2 – 3.0 keV with dose rate up to 1.0 Gy/s have been registered in\\nexperiments with high-current Glow Discharge. The emissions energy and intensity depend on\\nthe cathode material; the kind of plasma-forming gas; and the discharge parameters. The\\nexperiments were carried out on the high-current glow discharge device using D 2,H2, Kr and Xe\\nat pressure up to 10 Torr, as well as cathode samples made from Al, Sc, Ti, Ni, Nb, Zr, Mo, Pd,\\nTa, W, Pt, at current up to 500 mA and discharge voltage of 500-2500 V. Two emission modes\\nwere revealed under the experiments: 1. Diffusion X-rays was observed as separate X-ray bursts\\n(up to 5 ×105bursts a second and up to 106X-ray quanta in a burst); 2. X-rays in the form of laser\\nmicrobeams (up to 104beams a second and up to 1010X-ray of quanta in a beam, angular\\ndivergence was up to 10-4, the duration of the separate laser beams must be τ =3·10-13-3·10-14s,\\nthe separate beam power must be 107– 108W). The emission of the X-ray laser beams occurred\\nwhen the discharge occurred and within 100 ms after turning off the current. The results of\\nexperimental research into the characteristics of secondary penetrating radiation occurring when\\ninteracting primary X-ray beams from a solid-state cathode medium with targets made of various\\nmaterials are reported. It was shown that the secondary radiation consisted of fast electrons.\\nSecondary radiation of two types was observed: 1. The emission with a continuous temporal\\nspectrum in the form of separate bursts with intensity up to 106fast electrons a burst. 2. The\\nemission with a discrete temporal spectrum and emission rate up to 1010fast electrons a burst. A\\nthird type of the penetrating radiation was observed as well. This type was recorded directly by\\nthe photomultiplier placed behind of the target without the scintillator. The abnormal high\\npenetrating ability of this radiation type requires additional research to explain. The obtained\\nresults show that creating optically active medium with long-living metastable levels with the\\nenergy of 1.0 - 3.0 keV and more is possible in the solid state.\\n1. ',\n",
       " 'doc28.pdf': 'We report an easily reproducible Low Energy Nuclear Reactions (LENR) electrolysis experiment on an Ni–H system. An elec-trolytic cell with a Ni cathode and a Pt anode with an aqueous (H2OnotD2O) solution of K2CO3as electrolyte was used for theexperiment. A dc-power supply capable of supplying up to 5 A current was used to drive the electrolysis with the typical currentbeing around 4 A and the applied voltage about 100 V. After running the electrolysis for about two weeks with a daily run time of 8h on an average, a part of the nickel electrode, which by this time had become black, was taken for elemental analysis using EnergyDispersive Spectroscopy (EDS). The EDS analysis showed that a whole host of new elements had appeared on the cathode such as:K, Fe, Cu, O, Rh, Zr and Pb. The apparent concentration of the elements varied from just over a percent for K and Pb to about 10%for Rh and 20% for Cu. The sample was then taken to a Time of Flight Secondary Ion Mass Spectrometer (ToF-SIMS) for isotopicanalysis. This analysis also showed that a set of new elements had appeared on the nickel wire which were: K, Si, Mg, Mn, Zn,O & Rh. The Ni itself was found to have the following isotopes:58Ni,60Ni and62Ni with isotope concentration ratios differingsigniﬁcantly from the ratio found in naturally occurring Ni. It was clear that in the electrolyzed Ni the concentrations of60Ni and62Ni had gone down compared to the concentration of58Ni. This is a clear indication that nuclear reactions had taken place duringelectrolysis.c/circlecopyrt2017 ISCMNS. All rights reserved. ISSN 2227-3123Keywords:Electrolysis, LENR, Ni–H systems, Transmutation1. ',\n",
       " 'doc3.pdf': 'Experimental data from low energy nuclear reactions (LERN) in condensed media are presented. Thenuclear reactions products were found in solid cathode media used in glow discharge. Apparently, the nuclearreactions were initiated when bombarding the cathode surface by plasma ions with the energy of 1.0-2.0keV.Excess heat froma high current glow discharge reaction inD2, Xe and Kr using cathodes already chargedwith preliminary deuterium-charged Pd and Ti cathode samplesare given.Excessheat up to 10-15Wa n defficiency up to 130% was recorded under the experiments for Pd cathode samples inD2discharge.Excessheat up to 5W and efficiency up to 150% was recorded for Pd cathodes that were charged with deuteriumbefore the run, inXe and Krdischarges. At the same time excess heat was not observed for pure Pd cathodesamples in Xe and Kr discharges. The formation of impurity nuclides(7Li,13C,15N,20Ne,29Si,44Ca,48Ca,56Fe,57Fe,59Co,64Zn,66Zn,75As,107Ag,109Ag,110Cg,111Cg,112Cg,114Cg,115In) with the efficiency up to 1013atoms/s was recorded. The isotopic ratios of these new nuclides was quite different from the natural ratios.Soft X-ray radiation from the solid-state cathode with the intensity up to0.01Gy/s was recordedinexperiments with discharges inH2,D2, Ar, Xe and Kr.The X-ray radiation was observed in bursts of up to106photons, with up to 105bursts per second while the discharge was formed and within 100ms after turningoff the discharge current. The results of the X-ray radiation registration showed that the exited energy levelshave a lifetime up to 100ms or more, and theenergy of 1.2-2.5keV. A possible mechanism for producingexcess heat and nuclear transmutation reactions in the solid medium with the exited energy levels isconsidered.1. ',\n",
       " 'doc26.pdf': 'Signiﬁcant elemental transmutations occur on cathodes comprised of either pure metals (Ni, Cu) or the alloys Kanthal(Fe0.74Cr0.21Al0.05) and Ni-Fe (Ni0.93Fe0.07) in light water electrolysis highly biased (~30 V) against a pure graphite anode. Theutilization of graphite as an anode is advantageous because it avoids anode-driven contamination and establishes a distinct upperbound in the fusion products (Cu), which is different from upper bounds in previous studies (Pb or Ag) with a Pt anode. Wheneverisotopic shifts were measured following transmutation, they differed fromthe natural ratios. Pure Ni cathode predominantly trans-mutes to Fe and Cu, pure Cu cathode transmutes to Fe and Mg, Kanthal shows the appearance of Cu and Mg and the Ni-Fe alloytransmutes to Mg and Cu. While the extent of transmutation in pure cathodes isa few tens of percent after about twelve hours ofCathodic Hydrogen Loading (CHL), Kanthal and Ni-Fe alloy show comparable or larger amounts of transmutations in less than anhour of CHL.© 2022 ICCF. All rights reserved. ISSN 2227-3123Keywords:Low-energy-nuclear-reactions, Electrolysis, Alloys, Graphite, High-voltage1. ',\n",
       " 'doc12.pdf': 'Energetic charged particle emissions accompanyingdeuterium desorption fromspecially prepared Pd/PdO:Dx and TiDx targets in vacuum, stimulated by electronbeam (J ~ 0.6 mA/cm2, U = 30 keV) have been studied usingaset of CR-39plastic track detectors covered with various metal foil filters. It was found that theelectron bombardment of those targets is caused by statistically significantemissions of DD-reaction product (3 MeV protons), as well as high energy alphaparticles (11-20 MeV). At the same time the Pd/PdO:Dx and the TiDx samplesshow no sign of nuclear emissions duringvacuumexposurewithout e-beamstimulation. Extrapolation of boththeDD-reaction cross section and theenhancement factor (consistent with calculated screening potential Ue= 750 eV)tovery low deuteron energy allowed usto satisfactorilydescribethe detected DD-reaction yield in Pd/PdO:Dxtarget,assuming “hot” deuteron (Ed~ 3.0 eV)generation under e-beam bombardment. This result strongly supports thetheoretical prediction [1,2] with regards to electron excitation of the D-subsystemin Pd-deuterides1. ',\n",
       " 'doc30.pdf': 'Nuclear transmutations are reported in many low-energy nuclear reaction (LENR) experiments. We showed in a previous study(Scholkmann and Nagel,J. Condensed Matter Nucl. Sci.13(2014) 485–494) that (i) the transmutation data of three independentexperiments have a similar pattern and (ii) this pattern correlates with a model-based on the prediction of Widom and Larsen (WL).In the present study, we extended our analysis and investigated whether the abundance of elements in Earth’s crust is correlated witheither (i) the WL-prediction, or (ii) the three LENR transmutation data sets. The ﬁrst analysis revealed that there is no statisticallysigniﬁcant correlation between these variables. The second analysis showed a signiﬁcant correlation, but the correlation onlyreﬂects the trend of the data and not the peak-like pattern. This result strengthens the interpretation that the observed peak-likepattern in the transmutation data sets does not originate from contamination. Further implications of our study are discussed and arecommendation is given for future transmutation experiments.c/circlecopyrt2016 ISCMNS. All rights reserved. ISSN 2227-3123Keywords:Elements in Earth’s crust, Low-energy nuclear reactions (LENR), Neutron scattering strength, Statistical analysis, Trans-mutation, Widom–Larsen theory1. ',\n",
       " 'doc32.pdf': '\\nThis research develops the Least Action Nuclear Process (LANP) model of cold fusion, by assuming that the process is thermody-\\nnamically reversible. This requires: (1) one element of new physical theory, a far-from-equilibrium black body equation having a\\nsecond temperature scale and (2) a nuclear reaction selection method based on the Principle of Least Action. The model appears to\\npredict nuclear transmutations observed in Miley’s nickel microspheres, without false positives, and provides a plausible explanation\\nof loading and ignition processes, excess heat, no excess heat, and the absence of gamma radiation. The model shows how solar\\ncore temperatures can exist in a laboratory temperature device. This presentation is abstracted from a larger technical paper.\\n© 2014 ISCMNS. All rights reserved. ISSN 2227-3123\\nKeywords: LANP model, Least action, Reversible process, Theory\\n1. ',\n",
       " 'doc27.pdf': 'It has been recently revealed how a lattice bound proton, in an electrochemical cathode, can absorb a relativistic electronyielding a neutron. There is no longer much doubt that the analogous electron capture by a deuteron, in condensed matter,(e−real+1p↑0n↑→0n↓0n↑+νe)is even more efﬁcient, where the arrows indicate nucleon spins. The life time of the newlyformed di-neutron may be vanishingly short, but in the palladium deuteride matrix, we show that it is certainly sufﬁciently long toundergo transmutation with constituents of the matrix as well as added “impurities” to yield both isotopic and isotonic products:i.e.(0n↓0n↑+106Pd→108Pd). When the agent capturing the di-neutron is1H, tritium is the result. When it is2H,4He and heatare the products (the Fleishmann Pons Heat Effect). Consistent with the tendency of di-neutrons to cluster, multiple di-neutrons areoccasionally captured yielding neutron heavy nuclei. This is followed by beta decay and the respective isotonic products. We showthat, within the PdD matrix, these di-neutron reactions involve phonon enforced quantum tunneling. The di-neutron-phonon mech-anism fully accounts for the following: (1) the evolved heat commensurate with4He production, (2) the production of tritium whensmall amounts of1H are present, (3) the release of feeble neutrons, (4) the formation of Pr when Cs is present, (5) the ostensiveintermittent reproducibility and erratic (chaotic) heat out-puts, and (6) the seemingly major problem of obfuscating the Coulombicrepulsion issue. Indeed, the antics of the di-neutron can fully explain the important aspects of normal temperature LENR heateffects and transmutations. Further, the di-neutron paradigm (mechanism) falls within the normal bounds of the Standard Model,and it is without the necessity of exotic forms of matter.c/circlecopyrt2019 ISCMNS. All rights reserved. ISSN 2227-3123Keywords:Chaos, Di-neutron, Electron Capture,3H,4mH, Palladium-128, Transmutation1. ',\n",
       " 'doc24.pdf': ' 107 \\nThe Pd-D system has been described assuming a two-population model. A \"quasi-plasma\" delocalized boson gas picture has been used for the deuterons exceeding the stoichiometric ratio in Pd-D compounds. A mathematical model sup�orted by a numerical computer code with distributed parameters has been developed in order to describe the evolution of the deuteron concentration profile inside a Pd cathode under pulsed electrolysis. Several boundary conditions have been taken into account. A strong correlation has been found between the model system evolution and the experimental data1. 1.',\n",
       " 'doc9.pdf': '. The ion beam installation HELIS (P.N. Lebedev Physics Institute, Moscow, Russia) represents an \\nion accelerator of light elements with atomic number in the range Z=1-54 with ion energies ranging from 0.5 \\nto 50 keV operating at deuteron current densities up to 2 A/cm2 and intended to perform a wide spectrum of \\nphysical experiments related to LENR. \\n1. ',\n",
       " 'doc31.pdf': 'In our previous works [1]–[5], an effective method for accelerated deactivation of the reactor Cs137isotope during nuclear reactionof transmutation Cs137+p=Ba138in growing microbiological cultures was presented and discussed. In thepresent study we haveattempted to solve the problem of accelerated transmutation of another verydangerous radioactive Sr90isotope. This paper presentsthe results of investigation of the nuclear reaction Sr88+p=Y89a transmutation to a stable Sr88analog of radioactive Sr90isotope.The research was carried out on the basis of optimal anaerobic syntrophic associations under the stimulated long-distant action ofweak undamped thermal waves.© 2022 ICCF. All rights reserved. ISSN 2227-3123Keywords:Nuclear reaction in biological systems, Biotransmutation of isotopes, Coherent correlated states, Utilization of radionu-clides, Microbiological syntrophic association1. ',\n",
       " 'doc19.pdf': 'We have performed a plasma electrolysis experiment for the ﬁrst time at a pressure of 5×105Pa in a specially designed calorimeter.The cathode was a 2 mm tungsten rod, and the anode was a stainless-steel foil. The electrolyte was 0.6 mol K2CO3in light water.In one instance, we observed excess heat of 20 W for 90 min.c/circlecopyrt2015 ISCMNS. All rights reserved. ISSN 2227-3123Keywords:Cold fusion, Electrolysis, High pressure, Plasma1. ',\n",
       " 'doc15.pdf': \" Low energy (l-300keV) deuterium ion beam implantation experiment on Palladium and titanium foil (plate) were preformed, in order to study the nuclear and atomic interaction in solid. X-ray, Y ray, charged particle and neutron ware measured simultaneously. A series of anomalous experimental phenomena ware observed. A clear peak at 3.2MeVwas observed, when a pre-loading 1iDx was applied. This peak became evidently, following the implantation dose. Therefore, it is considered as the alpha peak from D-T secondary reaction. Its maximum ratio to D-D reaction reached 0.0015. This ratio was much higher than prediction value based on the secondary reaction of D-D fusion. Some unknown high energy counts locatedfrom 3.5MeVto 17MeVin charged particle spectra has been observed for many times. Sometimes the counts concentrated in limited area, which appeared like a peak but poor statistics. The phenomena were dij]icult to be reproduced. In the X-ray spectra, there were many characteristic peaks from Fe, Ni, Cu, Zn, As, Zr, Ru, Pd etc elements. The gamma radiation up to 30MeV was measured with a HpGe detector. Comparing to background, the intensity of foreground was a few orders higher. There was also a few counts distributed around 17MeVand 24MeV, which might be the gamma ray from D(d, Y )'He reactions. \",\n",
       " 'doc29.pdf': 'Transmutation reactions are studied from a theoretical point of view. An idea is proposed to explain the variations in the transmuta-tion ability of different elements, especially the relative inertness of palladium compared to the other elements. Proposals are madein order to verify experimentally this explanation and to enhance the transmutation signal.c/circlecopyrt2016 ISCMNS. All rights reserved. ISSN 2227-3123Keywords:LENR, Surface, Theory, Transmutation, WKB approximationThe Condensed Matter Nuclear Science has been studied for the last 26 years since the original work by Fleis-chmann and Pons [1]. While the cold fusion of two deuterium atom may be more important from the technologicalpoint of view, the transmutation reactions are scientiﬁcally more interesting. The existence of low energy transmutationreactions is intrinsically even more surprising than the cold (low energy) deuterium fusion, because the low tunnelingprobability (the Gamow factor) is supposed to suppress very effectively the transition rate with the increasing nuclearcharge.In this note, transmutation reactions will be studied theoretically. In what follows we shall assume that there issome kind of mechanism, which greatly enhances the apparently small tunneling probability. We will not make anyrestrictive assumptions about the actual mechanism, except just assuming that the mechanismitselfis independent ofthe nuclear charge Z.The reported experiments show a very large variety in the transmutation products [2,3]. Not only the products,but also the methods and materials by which transmutation had been found, have a large variety [4,5]. Among allthe published transmutation studies the most prominent are those by Iwamura et al. [6,7]. The interpretation of theexperimental results allowed them to propose the existence of the following reactions:4D+13355Cs→14159Pr+ 50.49MeV(1)and6D+13856Ba→15062Sm+ 67.61MeV.(2)∗E-mail: tuomo.toimela@vamk.ﬁc/circlecopyrt2016 ISCMNS. All rights reserved. ISSN 2227-312',\n",
       " 'doc10.pdf': '. We report charged particle emission from metal deuterides upon e-beam excitation of their surface.  Detection and identification was made using CR-39 plastic track detectors with Cu and Al absorbers.  Protons with primary energy 3 MeV and α-particles with energies Eα> 10 MeV are observed. 1. ',\n",
       " 'doc2.pdf': 'There is a small literature on the combination of low energy nuclear reactions (LENR) experiments and radiofrequencies (RF).The papers are worth attention in case they can teach anything about the mechanisms behind LENR. Application of RF to LENRelectrochemical cells in the mid-1990s clearly showed increases in the production of excess power. More recently, RF have beenmeasured in LENR cells. However, it is still possible that those data are artifacts of the operation of the system, and not indicative ofLENR. It has been suggested that the appearance of RF in LENR experiments is the cause of LENR, and not merely a manifestationof such reactions. That possibility has signiﬁcant implications. In the present paper, we summarize and analyze the results obtainedby different research groups concerning the application and emission of RF in the kHz to GHz range associated with heat productionduring electrochemical loading of deuterium into palladium.c/circlecopyrt2016 ISCMNS. All rights reserved. ISSN 2227-3123Keywords:Electromagnetic emissions, Electromagnetic radiation, Excess power, LENR, Heat production1. ',\n",
       " 'doc7.pdf': \" Shigeru ISAGAWA, Yukio KANDA and Takenori SUZUKI National Laboratory for High Energy Physics, KEK, 1-1 Oho, Tsukuba-shi, Ibaraki-ken, 305 Japan A burst-like excess heat release, equivalent to 110% of the input electric power, was clearly observed for the first time in our newly built open type electrolysis cell using Pd/0. lMLiOD/Pt. After being precharged, the cell was driven to boiling three times the last of which continued for about 16 hours to almost dryness. The burst occurred just during the calm period about 6 hours after the first boiling. The temperature of the cell, about 100 ml in volume, increased by 7.5 Kin 13 minutes. A palladium cathode, 2mm¢> x 7.05mm, was a heat source, although the mechanism of the heat generation is still uncertain. During the whole period of this run, however, the phenomenon took place only once. Neither increase of neutron emission nor that of tritium concentration has been detected. Mass analysis showed that any traces of D2 as well as 4He have notremained in the Pd sample used. Detection of 'Yray emission as well as 3He and 4He in off gas during or just after release of excess power should be yet to be pursued further. 1.\",\n",
       " 'doc6.pdf': ' Ken-ichiro OTA, Kazuhiko YAMAKI, Shinji TANABE, Hideaki YOSHIT AKE and Nobuyuki KAMIYA Department of Energy Engineering Yokohama National University 156 Tokiwadai, Hodogaya-ku Yokohama 240, JAPAN The heat balance during the electrolysis of lM LiOD heavy water solution using Pd calhlxle has been measured using the 0ow calorimeter with the constant power supply and the thermochemically closed cell. The special attention ,vas paied on the concentration of Bin the palladium cath\\\\x.le. The B concentration was controlled from 127 to 1 000ppm. Using Pd that contained 127ppm and I000ppm B, the excess heat was nol observed. While, using Pd that contained 267ppm and 500ppm B, the small excess heat was observed al 3 rnns out of 5 runs. The excess heal appeared continuously from the bcgining of the electrolysis. These concentration of B might be effeclire for the excess heat genaration. 1._lntrnd_uctio_nThe excess enthalpy during the heavy \\\\Valer electrolysis using Pd \\'cathode mainly in LiOD solution hm; been rqxJrted by the many groupsl-4)_ However, the excess enthalpy is not \\\\\\\\\\'ell reproduced in most of the groups. In order to get a gcx)d reproducibility, the materials science of Pd cathode should be promoted more. The history of Pd processing and the composition or Pd metal arc the interesting factors. ln this study the attention was paied on the B impurity in Pd cathode. Another point for the cold fusion study is how to measure the excess heat precisely. There is no fixed method for heat production during the electrolysis. In our group the heat balances during the heavy \\\\\\\\\"ater electrolysis using Pd cathodes have been measured by the flmv calorimeter using the constant power electrolysis in the thermochemically closed cell. 1 n this system the input electrical energy completely converted to the thermal energy at the output. We can compare the input and the output energy very easily. In this paper the cff ect of B concentration in Pd cathode on the excess heat generation du1ing the hea,·y \\\\\\\\\\'ater electrolysis has been studied using our flow calorimeter system. 2.�_ExpeximentalThe heat balance measurements have been carried out in an acrylic electrolysis cell with the recombination catalyst on top where the recombination reaction proceeds completely up to 4A. The recombination catalyst is fine Pd po\\\\\\\\\\'dcr on Al203. Figure 1 shows the schematic 132'}"
      ]
     },
     "execution_count": 4,
     "metadata": {},
     "output_type": "execute_result"
    }
   ],
   "source": [
    "pdf_abstract_dict"
   ]
  },
  {
   "cell_type": "code",
   "execution_count": 5,
   "metadata": {},
   "outputs": [],
   "source": [
    "abstract_pos = pdf_text_dict[\"doc1.pdf\"][0].lower().find(\"abstract\")\n",
    "intro_pos = pdf_text_dict[\"doc1.pdf\"][0].lower().find(\"introduction\")"
   ]
  },
  {
   "cell_type": "code",
   "execution_count": 6,
   "metadata": {},
   "outputs": [
    {
     "data": {
      "text/plain": [
       "'The study of the Fleischmann–Pons Effect (FPE), i.e. the production of excess power production during electrochemical loadingof deuterium in palladium (in the past labeled cold fusion) has had a notably multidisciplinary character, involving solid state andnuclear physics, material science, electrochemistry and other ﬁelds. Correlations between the material status and the occurrence ofthe effect as well as some changes in the electrochemical interface status have been observed. Although during the last two decades,in several calorimetric experiments the effect was observed to be well above the measurement uncertainty, the mechanism producingthe excess power is not completely understood. So far, the lack of reproducibility has been responsible for the absence of a clearexplanation of the phenomenon based on experimental apparatus designed to enhance the spectrum of information required todeﬁne the effect. Recently, In order to improve this aspect of this research, speciﬁc work has been carried out to investigate whetherthe excess power was produced concurrently with the emission of Radio Frequency from the active cathode. Suitable probesand triggering included in the RF experimental system revealed RF signal emission during electrochemical loading of palladiumsamples, and a correlation between the heat production, in active samples, and RF signal emission was found. The preliminaryresults highlight the importance of performing studies on the electrodynamic effects that may be involved in the phenomenon, andthe importance of the design of appropriate instruments designed to investigate unexplored regions of metal hydrogen systems.c/circlecopyrt2016 ISCMNS. All rights reserved. ISSN 2227-3123Keywords:Anomalous heat effect in metal hydride, Electrochemistry, Electromagnetic stimulation, Fleischmann and Pons effect,Metal hydrides and deuterides, Palladium, Palladium alloys, Radiofrequency1. '"
      ]
     },
     "execution_count": 6,
     "metadata": {},
     "output_type": "execute_result"
    }
   ],
   "source": [
    "abstract = pdf_text_dict[\"doc1.pdf\"][0][abstract_pos+8 : intro_pos]\n",
    "abstract"
   ]
  },
  {
   "cell_type": "code",
   "execution_count": 7,
   "metadata": {},
   "outputs": [
    {
     "name": "stderr",
     "output_type": "stream",
     "text": [
      "[nltk_data] Downloading package punkt to /home/samuel/nltk_data...\n",
      "[nltk_data]   Unzipping tokenizers/punkt.zip.\n",
      "[nltk_data] Downloading package wordnet to /home/samuel/nltk_data...\n",
      "[nltk_data] Downloading package stopwords to /home/samuel/nltk_data...\n",
      "[nltk_data]   Package stopwords is already up-to-date!\n"
     ]
    }
   ],
   "source": [
    "import nltk\n",
    "from nltk.corpus import stopwords\n",
    "from nltk.stem import WordNetLemmatizer\n",
    "import re\n",
    "\n",
    "nltk.download('punkt')\n",
    "nltk.download('wordnet')\n",
    "nltk.download('stopwords')\n",
    "\n",
    "def preprocess_text(text):\n",
    "\n",
    "    # Remove special characters\n",
    "    text = re.sub(r'\\W', ' ', text)\n",
    "\n",
    "    # Remove single characters\n",
    "    text = re.sub(r'\\s+[a-zA-Z]\\s+', ' ', text)\n",
    "\n",
    "    # Substitute multiple spaces with single space\n",
    "    text = re.sub(r'\\s+', ' ', text, flags=re.I)\n",
    "\n",
    "    # Tokenize the text\n",
    "    tokens = nltk.word_tokenize(text)\n",
    "\n",
    "    # Remove stopwords\n",
    "    stop_words = set(stopwords.words('english'))\n",
    "    tokens = [token for token in tokens if token not in stop_words]\n",
    "\n",
    "    # Lemmatize the tokens\n",
    "    lemmatizer = WordNetLemmatizer()\n",
    "    tokens = [lemmatizer.lemmatize(token) for token in tokens]\n",
    "\n",
    "    return ' '.join(tokens)"
   ]
  }
 ],
 "metadata": {
  "kernelspec": {
   "display_name": "Python 3",
   "language": "python",
   "name": "python3"
  },
  "language_info": {
   "codemirror_mode": {
    "name": "ipython",
    "version": 3
   },
   "file_extension": ".py",
   "mimetype": "text/x-python",
   "name": "python",
   "nbconvert_exporter": "python",
   "pygments_lexer": "ipython3",
   "version": "3.10.12"
  }
 },
 "nbformat": 4,
 "nbformat_minor": 2
}
